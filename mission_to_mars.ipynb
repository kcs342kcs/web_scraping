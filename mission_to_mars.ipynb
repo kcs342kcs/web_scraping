{
 "cells": [
  {
   "cell_type": "code",
   "execution_count": 1,
   "metadata": {},
   "outputs": [],
   "source": [
    "from splinter import Browser\n",
    "from bs4 import BeautifulSoup as bs\n",
    "import time\n",
    "import pandas as pd\n",
    "import re"
   ]
  },
  {
   "cell_type": "code",
   "execution_count": 2,
   "metadata": {},
   "outputs": [
    {
     "name": "stdout",
     "output_type": "stream",
     "text": [
      "Title: NASA Garners 7 Webby Award Nominations\n",
      "Snippit: Nominees include four JPL projects: the solar system and climate websites, InSight social media, and a 360-degree Earth video. Public voting closes April 18, 2019.\n"
     ]
    }
   ],
   "source": [
    "# initilize output dictonary and browser\n",
    "output_dict = {}\n",
    "executable_path = {\"executable_path\": \"C:\\\\Users\\\\kcs34\\\\AppData\\\\chromedriver.exe\"}\n",
    "browser = Browser(\"chrome\", **executable_path, headless=False)\n",
    "\n",
    "# Get top mars news story from nasa\n",
    "url = \"https://mars.nasa.gov/news/?page=0&per_page=40&order=publish_date+desc%2Ccreated_at+desc&search=&category=19%2C165%2C184%2C204&blank_scope=Latest\"\n",
    "browser.visit(url)\n",
    "\n",
    "time.sleep(1)\n",
    "\n",
    "html = browser.html\n",
    "soup = bs(html, \"html.parser\")\n",
    "\n",
    "# Get the title and teaser from the top mars story\n",
    "\n",
    "ln = soup.find('div', class_='content_title')\n",
    "lp = soup.find('div', class_='article_teaser_body')\n",
    "output_dict['news_title'] = ln.text\n",
    "output_dict['news_info'] = lp.text\n",
    "print('Title: {}'.format(ln.text))\n",
    "print('Snippit: {}'.format(lp.text))"
   ]
  },
  {
   "cell_type": "code",
   "execution_count": 3,
   "metadata": {},
   "outputs": [
    {
     "name": "stdout",
     "output_type": "stream",
     "text": [
      "https://www.jpl.nasa.gov/spaceimages/images/wallpaper/PIA19330-1920x1200.jpg\n"
     ]
    }
   ],
   "source": [
    "# Get the featured mars image\n",
    "\n",
    "url1 = 'https://www.jpl.nasa.gov/spaceimages/?search=&category=Mars'\n",
    "base_url = 'https://www.jpl.nasa.gov'\n",
    "browser.visit(url1)\n",
    "time.sleep(1)\n",
    "html1 = browser.html\n",
    "soup1 = bs(html1,'html.parser')\n",
    "pic = soup1.find('article', class_='carousel_item')\n",
    "first_part = pic['style'].split('\\'')\n",
    "featured_image = (base_url + first_part[1])\n",
    "output_dict['featured_image'] = featured_image\n",
    "print(featured_image)"
   ]
  },
  {
   "cell_type": "code",
   "execution_count": 4,
   "metadata": {},
   "outputs": [
    {
     "name": "stdout",
     "output_type": "stream",
     "text": [
      "InSight sol 129 (2019-04-07) low -97.7ºC (-143.9ºF) high -16.7ºC (1.9ºF)\n",
      "winds from the SW at 4.1 m/s (9.1 mph) gusting to 11.9 m/s (26.7 mph)\n",
      "pressure at 7.30 \n"
     ]
    }
   ],
   "source": [
    "# Get the latest mars weather\n",
    "\n",
    "url2 = 'https://twitter.com/marswxreport?lang=en'\n",
    "browser.visit(url2)\n",
    "time.sleep(1)\n",
    "html2 = browser.html\n",
    "soup2 = bs(html2,'html.parser')\n",
    "pic1 = soup2.find_all('p', class_='TweetTextSize TweetTextSize--normal js-tweet-text tweet-text')\n",
    "regexPattern = '^InSight sol*'\n",
    "for x in pic1:\n",
    "    if (re.match(regexPattern,x.text)):\n",
    "        pic12 = x.text.split('hPapic.twitter.com')\n",
    "        output_dict['mars_weather'] = pic12[0]\n",
    "        break\n",
    "print(output_dict['mars_weather'])"
   ]
  },
  {
   "cell_type": "code",
   "execution_count": 5,
   "metadata": {},
   "outputs": [
    {
     "name": "stdout",
     "output_type": "stream",
     "text": [
      "['Mars and Earth have approximately the same landmass.\\nEven though Mars has only 15% of the Earth’s volume and just over 10% of the Earth’s mass, around two thirds of the Earth’s surface is covered in water. Martian surface gravity is only 37% of the Earth’s (meaning you could leap nearly three times higher on Mars).', 'Mars is home to the tallest mountain in the solar system.\\nOlympus Mons, a shield volcano, is 21km high and 600km in diameter. Despite having formed over billions of years, evidence from volcanic lava flows is so recent many scientists believe it could still be active.', 'Only 18 missions to Mars have been successful.\\nAs of September 2014 there have been 40 missions to Mars, including orbiters, landers and rovers but not counting flybys. The most recent arrivals include the Mars Curiosity mission in 2012, the MAVEN mission, which arrived on September 22, 2014, followed by the Indian Space Research Organization’s MOM Mangalyaan orbiter, which arrived on September 24, 2014. The next missions to arrive will be the European Space Agency’s ExoMars mission, comprising an orbiter, lander, and a rover, followed by NASA’s InSight robotic lander mission, slated for launch in March 2016 and a planned arrival in September, 2016.', 'Mars has the largest dust storms in the solar system.\\nThey can last for months and cover the entire planet. The seasons are extreme because its elliptical (oval-shaped) orbital path around the Sun is more elongated than most other planets in the solar system.', 'On Mars the Sun appears about half the size as it does on Earth.\\nAt the closest point to the Sun, the Martian southern hemisphere leans towards the Sun, causing a short, intensely hot summer, while the northern hemisphere endures a brief, cold winter: at its farthest point from the Sun, the Martian northern hemisphere leans towards the Sun, causing a long, mild summer, while the southern hemisphere endures a lengthy, cold winter.', 'Pieces of Mars have fallen to Earth.\\nScientists have found tiny traces of Martian atmosphere within meteorites violently ejected from Mars, then orbiting the solar system amongst galactic debris for millions of years, before crash landing on Earth. This allowed scientists to begin studying Mars prior to launching space missions.', 'Mars takes its name from the Roman god of war.\\nThe ancient Greeks called the planet Ares, after their god of war; the Romans then did likewise, associating the planet’s blood-red colour with Mars, their own god of war. Interestingly, other ancient cultures also focused on colour – to China’s astronomers it was ‘the fire star’, whilst Egyptian priests called on ‘Her Desher’, or ‘the red one’. The red colour Mars is known for is due to the rock and dust covering its surface being rich in iron.', 'There are signs of liquid water on Mars.\\nFor years Mars has been known to have water in the form of ice. The first signs of trickling water are dark stripes or stains on crater wall and cliffs seen in satellite images. Due to Mars’ atmosphere this water would have to be salty to prevent it from freezing or vaporising.', 'One day Mars will have a ring.\\nIn the next 20-40 million years Mars’ largest moon Phobos will be torn apart by gravitational forces leading to the creation of a ring that could last up to 100 million years.']\n"
     ]
    }
   ],
   "source": [
    "# get some mars trivia\n",
    "\n",
    "url3 = \"https://space-facts.com/mars/\"\n",
    "browser.visit(url3)\n",
    "time.sleep(1)\n",
    "html3 = browser.html\n",
    "soup3 = bs(html3,'html.parser')\n",
    "facts = soup3.find_all('div', id='facts')\n",
    "mars_trivia=[]\n",
    "for fact in facts:\n",
    "    f = fact.find_all('li')\n",
    "    for i in f:\n",
    "        try:\n",
    "            mars_trivia.append(i.text.strip('\\\\n'))\n",
    "        except:\n",
    "             print('bad')\n",
    "output_dict['mars_trivia'] = mars_trivia\n",
    "print(output_dict['mars_trivia'])"
   ]
  },
  {
   "cell_type": "code",
   "execution_count": 6,
   "metadata": {},
   "outputs": [
    {
     "name": "stdout",
     "output_type": "stream",
     "text": [
      "<table border=\"1\" class=\"dataframe\">\n",
      "  <thead>\n",
      "    <tr style=\"text-align: right;\">\n",
      "      <th></th>\n",
      "      <th>Value</th>\n",
      "    </tr>\n",
      "    <tr>\n",
      "      <th>Description</th>\n",
      "      <th></th>\n",
      "    </tr>\n",
      "  </thead>\n",
      "  <tbody>\n",
      "    <tr>\n",
      "      <th>Equatorial Diameter:</th>\n",
      "      <td>6,792 km</td>\n",
      "    </tr>\n",
      "    <tr>\n",
      "      <th>Polar Diameter:</th>\n",
      "      <td>6,752 km</td>\n",
      "    </tr>\n",
      "    <tr>\n",
      "      <th>Mass:</th>\n",
      "      <td>6.42 x 10^23 kg (10.7% Earth)</td>\n",
      "    </tr>\n",
      "    <tr>\n",
      "      <th>Moons:</th>\n",
      "      <td>2 (Phobos &amp; Deimos)</td>\n",
      "    </tr>\n",
      "    <tr>\n",
      "      <th>Orbit Distance:</th>\n",
      "      <td>227,943,824 km (1.52 AU)</td>\n",
      "    </tr>\n",
      "    <tr>\n",
      "      <th>Orbit Period:</th>\n",
      "      <td>687 days (1.9 years)</td>\n",
      "    </tr>\n",
      "    <tr>\n",
      "      <th>Surface Temperature:</th>\n",
      "      <td>-153 to 20 °C</td>\n",
      "    </tr>\n",
      "    <tr>\n",
      "      <th>First Record:</th>\n",
      "      <td>2nd millennium BC</td>\n",
      "    </tr>\n",
      "    <tr>\n",
      "      <th>Recorded By:</th>\n",
      "      <td>Egyptian astronomers</td>\n",
      "    </tr>\n",
      "  </tbody>\n",
      "</table>\n"
     ]
    }
   ],
   "source": [
    "# get mars table data\n",
    "table = pd.read_html(url3)\n",
    "table[0].columns=['Description','Value']\n",
    "table[0].set_index('Description',inplace=True)\n",
    "mars_table = table[0].to_html()\n",
    "output_dict['mars_table'] = mars_table\n",
    "print(output_dict['mars_table'])"
   ]
  },
  {
   "cell_type": "code",
   "execution_count": 7,
   "metadata": {},
   "outputs": [
    {
     "name": "stdout",
     "output_type": "stream",
     "text": [
      "[{'title': 'Cerberus Hemisphere Enhanced', 'link': 'http://astropedia.astrogeology.usgs.gov/download/Mars/Viking/cerberus_enhanced.tif/full.jpg'}, {'title': 'Cerberus Hemisphere Enhanced', 'link': 'http://astropedia.astrogeology.usgs.gov/download/Mars/Viking/cerberus_enhanced.tif/full.jpg'}, {'title': 'Schiaparelli Hemisphere Enhanced', 'link': 'http://astropedia.astrogeology.usgs.gov/download/Mars/Viking/schiaparelli_enhanced.tif/full.jpg'}, {'title': 'Cerberus Hemisphere Enhanced', 'link': 'http://astropedia.astrogeology.usgs.gov/download/Mars/Viking/cerberus_enhanced.tif/full.jpg'}, {'title': 'Schiaparelli Hemisphere Enhanced', 'link': 'http://astropedia.astrogeology.usgs.gov/download/Mars/Viking/schiaparelli_enhanced.tif/full.jpg'}, {'title': 'Syrtis Major Hemisphere Enhanced', 'link': 'http://astropedia.astrogeology.usgs.gov/download/Mars/Viking/syrtis_major_enhanced.tif/full.jpg'}, {'title': 'Cerberus Hemisphere Enhanced', 'link': 'http://astropedia.astrogeology.usgs.gov/download/Mars/Viking/cerberus_enhanced.tif/full.jpg'}, {'title': 'Schiaparelli Hemisphere Enhanced', 'link': 'http://astropedia.astrogeology.usgs.gov/download/Mars/Viking/schiaparelli_enhanced.tif/full.jpg'}, {'title': 'Syrtis Major Hemisphere Enhanced', 'link': 'http://astropedia.astrogeology.usgs.gov/download/Mars/Viking/syrtis_major_enhanced.tif/full.jpg'}, {'title': 'Valles Marineris Hemisphere Enhanced', 'link': 'http://astropedia.astrogeology.usgs.gov/download/Mars/Viking/valles_marineris_enhanced.tif/full.jpg'}]\n"
     ]
    }
   ],
   "source": [
    "#Get hemisphere pics and titles\n",
    "url4 = 'https://astrogeology.usgs.gov/search/results?q=hemisphere+enhanced&k1=target&v1=Mars'\n",
    "part_url = 'https://astrogeology.usgs.gov'\n",
    "browser.visit(url4)\n",
    "time.sleep(1)\n",
    "html4 = browser.html\n",
    "soup4 = bs(html4,'html.parser')\n",
    "hemi = soup4.find_all('div', class_='description')\n",
    "h_data = {}\n",
    "h_final_data = []\n",
    "\n",
    "# find the links to the hemi pics\n",
    "for h in hemi:\n",
    "    hpic = h.find('a')\n",
    "    pic_title = h.find('h3')\n",
    "    get_pic = (part_url + hpic['href'])\n",
    "    h_data[pic_title.text] = get_pic\n",
    "\n",
    "    # get the url's for the hemi pics\n",
    "    for v in h_data.keys():\n",
    "        browser.visit(h_data[v])\n",
    "        time.sleep(1)\n",
    "        tmp_html = browser.html\n",
    "        tmp_soup = bs(tmp_html,'html.parser')\n",
    "        tmp_dat = tmp_soup.find_all('div', class_='downloads')\n",
    "\n",
    "        for final in tmp_dat:\n",
    "            li_f = final.find('li')\n",
    "            h_final_data.append({'title':v,'link':li_f.a['href']})\n",
    "\n",
    "output_dict['hemispheres'] = h_final_data\n",
    "print(output_dict['hemispheres'])"
   ]
  },
  {
   "cell_type": "code",
   "execution_count": 8,
   "metadata": {},
   "outputs": [],
   "source": [
    "# close browser window\n",
    "browser.quit()"
   ]
  }
 ],
 "metadata": {
  "kernelspec": {
   "display_name": "Python 3",
   "language": "python",
   "name": "python3"
  },
  "language_info": {
   "codemirror_mode": {
    "name": "ipython",
    "version": 3
   },
   "file_extension": ".py",
   "mimetype": "text/x-python",
   "name": "python",
   "nbconvert_exporter": "python",
   "pygments_lexer": "ipython3",
   "version": "3.7.0"
  }
 },
 "nbformat": 4,
 "nbformat_minor": 2
}
